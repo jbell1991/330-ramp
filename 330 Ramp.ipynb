{
 "cells": [
  {
   "cell_type": "code",
   "execution_count": 2,
   "metadata": {},
   "outputs": [],
   "source": [
    "# imports\n",
    "import pandas as pd"
   ]
  },
  {
   "cell_type": "code",
   "execution_count": 6,
   "metadata": {},
   "outputs": [
    {
     "data": {
      "text/html": [
       "<div>\n",
       "<style scoped>\n",
       "    .dataframe tbody tr th:only-of-type {\n",
       "        vertical-align: middle;\n",
       "    }\n",
       "\n",
       "    .dataframe tbody tr th {\n",
       "        vertical-align: top;\n",
       "    }\n",
       "\n",
       "    .dataframe thead th {\n",
       "        text-align: right;\n",
       "    }\n",
       "</style>\n",
       "<table border=\"1\" class=\"dataframe\">\n",
       "  <thead>\n",
       "    <tr style=\"text-align: right;\">\n",
       "      <th></th>\n",
       "      <th>DateTime</th>\n",
       "      <th>Open</th>\n",
       "      <th>High</th>\n",
       "      <th>Low</th>\n",
       "      <th>Close</th>\n",
       "    </tr>\n",
       "  </thead>\n",
       "  <tbody>\n",
       "    <tr>\n",
       "      <td>0</td>\n",
       "      <td>2010-01-04 09:30:00</td>\n",
       "      <td>1116.56</td>\n",
       "      <td>1122.15</td>\n",
       "      <td>1116.56</td>\n",
       "      <td>1122.15</td>\n",
       "    </tr>\n",
       "    <tr>\n",
       "      <td>1</td>\n",
       "      <td>2010-01-04 09:31:00</td>\n",
       "      <td>1122.65</td>\n",
       "      <td>1123.80</td>\n",
       "      <td>1122.65</td>\n",
       "      <td>1123.80</td>\n",
       "    </tr>\n",
       "    <tr>\n",
       "      <td>2</td>\n",
       "      <td>2010-01-04 09:32:00</td>\n",
       "      <td>1123.96</td>\n",
       "      <td>1124.23</td>\n",
       "      <td>1123.95</td>\n",
       "      <td>1124.23</td>\n",
       "    </tr>\n",
       "    <tr>\n",
       "      <td>3</td>\n",
       "      <td>2010-01-04 09:33:00</td>\n",
       "      <td>1124.27</td>\n",
       "      <td>1124.27</td>\n",
       "      <td>1124.05</td>\n",
       "      <td>1124.23</td>\n",
       "    </tr>\n",
       "    <tr>\n",
       "      <td>4</td>\n",
       "      <td>2010-01-04 09:34:00</td>\n",
       "      <td>1124.17</td>\n",
       "      <td>1124.29</td>\n",
       "      <td>1124.17</td>\n",
       "      <td>1124.26</td>\n",
       "    </tr>\n",
       "  </tbody>\n",
       "</table>\n",
       "</div>"
      ],
      "text/plain": [
       "              DateTime     Open     High      Low    Close\n",
       "0  2010-01-04 09:30:00  1116.56  1122.15  1116.56  1122.15\n",
       "1  2010-01-04 09:31:00  1122.65  1123.80  1122.65  1123.80\n",
       "2  2010-01-04 09:32:00  1123.96  1124.23  1123.95  1124.23\n",
       "3  2010-01-04 09:33:00  1124.27  1124.27  1124.05  1124.23\n",
       "4  2010-01-04 09:34:00  1124.17  1124.29  1124.17  1124.26"
      ]
     },
     "execution_count": 6,
     "metadata": {},
     "output_type": "execute_result"
    }
   ],
   "source": [
    "# load in data\n",
    "df = pd.read_csv('/Users/josephbell/Downloads/SPX_hr5aqh2 2/SPX_2010_2019.txt', sep=\",\", header=None,\n",
    "                names=[\"DateTime\", \"Open\", \"High\", \"Low\", \"Close\"])\n",
    "df.head()"
   ]
  },
  {
   "cell_type": "code",
   "execution_count": null,
   "metadata": {},
   "outputs": [],
   "source": [
    "# TODO - concatenate multiple txt files to include all data in the dataset\n"
   ]
  }
 ],
 "metadata": {
  "kernelspec": {
   "display_name": "Python 3",
   "language": "python",
   "name": "python3"
  },
  "language_info": {
   "codemirror_mode": {
    "name": "ipython",
    "version": 3
   },
   "file_extension": ".py",
   "mimetype": "text/x-python",
   "name": "python",
   "nbconvert_exporter": "python",
   "pygments_lexer": "ipython3",
   "version": "3.7.4"
  }
 },
 "nbformat": 4,
 "nbformat_minor": 4
}
